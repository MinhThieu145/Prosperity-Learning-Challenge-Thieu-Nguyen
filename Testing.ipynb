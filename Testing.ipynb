{
 "cells": [
  {
   "cell_type": "code",
   "execution_count": 3,
   "metadata": {},
   "outputs": [
    {
     "data": {
      "text/plain": [
       "(-10, -1)"
      ]
     },
     "execution_count": 3,
     "metadata": {},
     "output_type": "execute_result"
    }
   ],
   "source": [
    "# Redefining the values_extract function and running the simulation with the sell order dictionary\n",
    "\n",
    "def values_extract(order_dict, buy=0):\n",
    "    tot_vol = 0\n",
    "    best_val = -1\n",
    "    mxvol = -1\n",
    "\n",
    "    for ask, vol in order_dict.items():\n",
    "        if buy == 0:  # For sell orders, negate the volume\n",
    "            vol *= -1\n",
    "        tot_vol += vol\n",
    "        if tot_vol > mxvol:\n",
    "            mxvol = tot_vol\n",
    "            best_val = ask\n",
    "\n",
    "    return tot_vol, best_val\n",
    "\n",
    "# Simulating with a sell order dictionary\n",
    "sell_order_dict = {100: 5, 99: 3, 98: 2}\n",
    "values_extract(sell_order_dict, buy=0)\n"
   ]
  },
  {
   "cell_type": "code",
   "execution_count": 6,
   "metadata": {},
   "outputs": [
    {
     "name": "stdout",
     "output_type": "stream",
     "text": [
      "OrderedDict([(100, 2), (101, 3), (102, 5)])\n"
     ]
    },
    {
     "data": {
      "text/plain": [
       "((-10, -1), (10, 102))"
      ]
     },
     "execution_count": 6,
     "metadata": {},
     "output_type": "execute_result"
    }
   ],
   "source": [
    "import collections\n",
    "\n",
    "# Redefining the dictionaries and sorting them\n",
    "unsorted_sell_order_dict = {100: 2, 98: 5, 99: 3}\n",
    "sorted_sell_order_dict = collections.OrderedDict(sorted(unsorted_sell_order_dict.items()))\n",
    "\n",
    "unsorted_buy_order_dict = {100: 2, 102: 5, 101: 3}\n",
    "sorted_buy_order_dict = collections.OrderedDict(sorted(unsorted_buy_order_dict.items(), reverse=False))\n",
    "print(sorted_buy_order_dict)\n",
    "\n",
    "# Running the values_extract function on the sorted dictionaries\n",
    "sell_vol_sorted, best_sell_pr_sorted = values_extract(sorted_sell_order_dict)\n",
    "buy_vol_sorted, best_buy_pr_sorted = values_extract(sorted_buy_order_dict, 1)\n",
    "\n",
    "(sell_vol_sorted, best_sell_pr_sorted), (buy_vol_sorted, best_buy_pr_sorted)\n"
   ]
  },
  {
   "cell_type": "code",
   "execution_count": null,
   "metadata": {},
   "outputs": [],
   "source": []
  }
 ],
 "metadata": {
  "kernelspec": {
   "display_name": "DataAnalyst_2",
   "language": "python",
   "name": "python3"
  },
  "language_info": {
   "codemirror_mode": {
    "name": "ipython",
    "version": 3
   },
   "file_extension": ".py",
   "mimetype": "text/x-python",
   "name": "python",
   "nbconvert_exporter": "python",
   "pygments_lexer": "ipython3",
   "version": "3.11.8"
  }
 },
 "nbformat": 4,
 "nbformat_minor": 2
}
